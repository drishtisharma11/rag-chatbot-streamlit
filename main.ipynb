{
 "cells": [
  {
   "cell_type": "code",
   "execution_count": null,
   "id": "b086bf97-792d-485b-9674-1963bc246f25",
   "metadata": {},
   "outputs": [],
   "source": [
    "!pip install sentence-transformers faiss-cpu PyMuPDF langchain\n"
   ]
  },
  {
   "cell_type": "code",
   "execution_count": null,
   "id": "556a6515-b9c2-4519-9027-175272a6f0ba",
   "metadata": {},
   "outputs": [],
   "source": [
    "from google.colab import files\n",
    "uploaded = files.upload()"
   ]
  },
  {
   "cell_type": "code",
   "execution_count": null,
   "id": "4e185185-d556-45a6-8115-9d3806f05d22",
   "metadata": {},
   "outputs": [],
   "source": [
    "import fitz  # PyMuPDF\n",
    "\n",
    "doc = fitz.open(\"AI Training Document.pdf\")\n",
    "text = \"\"\n",
    "for page in doc:\n",
    "    text += page.get_text()\n",
    "\n",
    "print(text[:1000])  # pehle 1000 characters check karne ke liye"
   ]
  },
  {
   "cell_type": "code",
   "execution_count": null,
   "id": "689b9d53-f1da-43c7-9f22-e20cf452cb53",
   "metadata": {},
   "outputs": [],
   "source": [
    "from langchain.text_splitter import RecursiveCharacterTextSplitter\n",
    "\n",
    "text_splitter = RecursiveCharacterTextSplitter(\n",
    "    chunk_size=300,\n",
    "    chunk_overlap=50,\n",
    "    separators=[\"\\n\\n\", \"\\n\", \".\", \" \"]\n",
    ")\n",
    "\n",
    "chunks = text_splitter.create_documents([text])\n",
    "print(f\"Total chunks: {len(chunks)}\")\n",
    "print(\"First chunk:\\n\", chunks[0].page_content)"
   ]
  },
  {
   "cell_type": "code",
   "execution_count": null,
   "id": "bdc780b2-0ebc-4801-815c-2bf805376860",
   "metadata": {},
   "outputs": [],
   "source": [
    "from sentence_transformers import SentenceTransformer\n",
    "\n",
    "model = SentenceTransformer(\"all-MiniLM-L6-v2\")\n",
    "print(\"✅ Model loaded!\")\n",
    "\n",
    "texts = [chunk.page_content for chunk in chunks]\n",
    "embeddings = model.encode(texts)\n",
    "print(f\"Embeddings shape: {embeddings.shape}\")"
   ]
  },
  {
   "cell_type": "code",
   "execution_count": null,
   "id": "2f31ffd4-2692-4f95-986e-73b32a5e9ed5",
   "metadata": {},
   "outputs": [],
   "source": [
    "import faiss\n",
    "import numpy as np\n",
    "\n",
    "# Convert embeddings to numpy array\n",
    "embedding_matrix = np.array(embeddings).astype(\"float32\")\n",
    "\n",
    "# FAISS index initialize\n",
    "index = faiss.IndexFlatL2(embedding_matrix.shape[1])  # 384 dim\n",
    "index.add(embedding_matrix)\n",
    "\n",
    "print(\"✅ FAISS index created with\", index.ntotal, \"vectors.\")"
   ]
  },
  {
   "cell_type": "code",
   "execution_count": null,
   "id": "39506fdd-528d-4ce6-b570-a439b416477c",
   "metadata": {},
   "outputs": [],
   "source": [
    "def search_documents(query, top_k=3):\n",
    "    # Query embedding\n",
    "    query_embedding = model.encode([query]).astype(\"float32\")\n",
    "\n",
    "    # FAISS search\n",
    "    distances, indices = index.search(query_embedding, top_k)\n",
    "\n",
    "    print(\"\\n🔍 Top Matches:\")\n",
    "    for i in indices[0]:\n",
    "        print(\"\\n-- Chunk\", i, \"--\")\n",
    "        print(chunks[i].page_content)\n"
   ]
  }
 ],
 "metadata": {
  "kernelspec": {
   "display_name": "Python 3 (ipykernel)",
   "language": "python",
   "name": "python3"
  },
  "language_info": {
   "codemirror_mode": {
    "name": "ipython",
    "version": 3
   },
   "file_extension": ".py",
   "mimetype": "text/x-python",
   "name": "python",
   "nbconvert_exporter": "python",
   "pygments_lexer": "ipython3",
   "version": "3.11.7"
  }
 },
 "nbformat": 4,
 "nbformat_minor": 5
}
